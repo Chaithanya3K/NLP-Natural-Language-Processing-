{
  "nbformat": 4,
  "nbformat_minor": 0,
  "metadata": {
    "colab": {
      "provenance": [],
      "authorship_tag": "ABX9TyO/lSdIvbv5JOxLCFhfeEt9",
      "include_colab_link": true
    },
    "kernelspec": {
      "name": "python3",
      "display_name": "Python 3"
    },
    "language_info": {
      "name": "python"
    }
  },
  "cells": [
    {
      "cell_type": "markdown",
      "metadata": {
        "id": "view-in-github",
        "colab_type": "text"
      },
      "source": [
        "<a href=\"https://colab.research.google.com/github/Chaithanya3K/NLP-Natural-Language-Processing-/blob/main/preprocesing_pipeline.ipynb\" target=\"_parent\"><img src=\"https://colab.research.google.com/assets/colab-badge.svg\" alt=\"Open In Colab\"/></a>"
      ]
    },
    {
      "cell_type": "code",
      "execution_count": 6,
      "metadata": {
        "colab": {
          "base_uri": "https://localhost:8080/",
          "height": 0
        },
        "id": "ueaIa2zPNfr5",
        "outputId": "0969ec0e-dfc1-472d-a638-2209f163446e"
      },
      "outputs": [
        {
          "output_type": "stream",
          "name": "stderr",
          "text": [
            "[nltk_data] Downloading package vader_lexicon to /root/nltk_data...\n"
          ]
        },
        {
          "output_type": "execute_result",
          "data": {
            "text/plain": [
              "True"
            ]
          },
          "metadata": {},
          "execution_count": 6
        }
      ],
      "source": [
        "import re\n",
        "import nltk\n",
        "from nltk.sentiment import SentimentIntensityAnalyzer\n",
        "nltk.download('vader_lexicon')\n",
        "#vader_lexicon assign the sentiment value to each words"
      ]
    },
    {
      "cell_type": "code",
      "source": [
        "tweets=[\n",
        "'''Just watched Inception 🤯💡 What a masterpiece! Nolan never disappoints 🙌\n",
        "👉 https://t.co/mov101''',\n",
        "\n",
        "'''Omg The Lion King remake 🦁🎶 gave me chills… nostalgia + great visuals ❤️\n",
        "👉 https://t.co/mov202''',\n",
        "\n",
        "'''Fast X was such a mess 😡🚗💥 Too much action, no real story… disappointed.\n",
        "👉 https://t.co/mov303''',\n",
        "\n",
        "'''Barbie 🎀💃 was surprisingly fun and meaningful 😍✨ Highly recommend!\n",
        "👉 https://t.co/mov404''',\n",
        "\n",
        "'''Horror Nights 👻😱 total waste of time… boring jumpscares and weak plot.\n",
        "👉 https://t.co/mov505'''\n",
        "]"
      ],
      "metadata": {
        "id": "GCTPTBCEQdm_"
      },
      "execution_count": 7,
      "outputs": []
    },
    {
      "cell_type": "code",
      "source": [
        "#subfunction will serach for the string if searching string is found then it will replace the word\n",
        "#subfunction will take 3 arguments (pattern,replacement,where string need to search)\n",
        "#ex-(https/www,'',twit)\n",
        "#r-rawstring,r\"\",http/s+ | https/s+ | www/s+ (s+ means anynuber of string after http,)\n",
        "# w-wote charatecter\n",
        "#encode convert all the char to asci value , we can ignore the emoji a it is not asci value\n",
        "# after removing the emoji we need to decode the asci values\n",
        "#strip function is used to remove the  space in the starting and ending of the word\n",
        "\n",
        "\n",
        "import re\n",
        "\n",
        "# 🔹 Define the function\n",
        "def clean_twit(twit: str) -> str:\n",
        "    \"\"\"\n",
        "    Clean a single tweet by removing URLs, special characters, emojis,\n",
        "    and trimming extra spaces.\n",
        "    \"\"\"\n",
        "\n",
        "    # Subfunction for regex replacement\n",
        "    def replace_pattern(pattern: str, replacement: str, text: str) -> str:\n",
        "        return re.sub(pattern, replacement, text)\n",
        "\n",
        "    # 1. Remove URLs (http, https, www)\n",
        "    twit = replace_pattern(r\"(http\\S+|https\\S+|www\\S+)\", \"\", twit)\n",
        "\n",
        "    # 2. Remove non-word characters (punctuation, symbols except spaces)\n",
        "    twit = replace_pattern(r\"[^\\w\\s]\", \"\", twit)\n",
        "\n",
        "    # 3. Encode to ASCII (ignore emojis & non-ASCII), then decode back\n",
        "    twit = twit.encode(\"ascii\", \"ignore\").decode(\"ascii\")\n",
        "\n",
        "    # 4. Remove extra spaces at start/end\n",
        "    twit = twit.strip()\n",
        "\n",
        "    return twit\n",
        "\n",
        "\n",
        "\n"
      ],
      "metadata": {
        "id": "tY3Gm5DPQkMe"
      },
      "execution_count": 8,
      "outputs": []
    },
    {
      "cell_type": "code",
      "source": [
        "corpus = []   # empty list to store cleaned tweets\n",
        "\n",
        "for twit in tweets:               # loop through each tweet\n",
        "    cleaned = clean_twit(twit)    # call your cleaning function\n",
        "    corpus.append(cleaned)        # add to corpus\n",
        "\n",
        "print(corpus)"
      ],
      "metadata": {
        "colab": {
          "base_uri": "https://localhost:8080/",
          "height": 0
        },
        "id": "CROvPHXgQkQU",
        "outputId": "c4e6f526-0ffd-420e-db55-9f7a4d70c7ac"
      },
      "execution_count": 11,
      "outputs": [
        {
          "output_type": "stream",
          "name": "stdout",
          "text": [
            "['Just watched Inception  What a masterpiece Nolan never disappoints', 'Omg The Lion King remake  gave me chills nostalgia  great visuals', 'Fast X was such a mess  Too much action no real story disappointed', 'Barbie  was surprisingly fun and meaningful  Highly recommend', 'Horror Nights  total waste of time boring jumpscares and weak plot']\n"
          ]
        }
      ]
    },
    {
      "cell_type": "code",
      "source": [
        "corpus = [clean_twit(twit) for twit in tweets]\n",
        "sia = SentimentIntensityAnalyzer()\n",
        "\n",
        "# Perform sentiment analysis\n",
        "for twit in corpus:\n",
        "    score = sia.polarity_scores(twit)\n",
        "    compound = score['compound']\n",
        "\n",
        "    if compound >= 0.05:\n",
        "        sentiment = \"Positive\"\n",
        "    elif compound <= -0.05:\n",
        "        sentiment = \"Negative\"\n",
        "    else:\n",
        "        sentiment = \"Neutral \"\n",
        "\n",
        "    print(f\"Tweet: {twit}\")\n",
        "    print(f\"Sentiment Scores: {score}\")\n",
        "    print(f\"Final Sentiment: {sentiment}\\n\")\n",
        ""
      ],
      "metadata": {
        "colab": {
          "base_uri": "https://localhost:8080/",
          "height": 0
        },
        "id": "pz9h9M0UQkUy",
        "outputId": "ff55419c-f0e1-40d0-bdb9-a074d39a19ce"
      },
      "execution_count": 16,
      "outputs": [
        {
          "output_type": "stream",
          "name": "stdout",
          "text": [
            "Tweet: Just watched Inception  What a masterpiece Nolan never disappoints\n",
            "Sentiment Scores: {'neg': 0.0, 'neu': 0.488, 'pos': 0.512, 'compound': 0.7418}\n",
            "Final Sentiment: Positive\n",
            "\n",
            "Tweet: Omg The Lion King remake  gave me chills nostalgia  great visuals\n",
            "Sentiment Scores: {'neg': 0.0, 'neu': 0.709, 'pos': 0.291, 'compound': 0.6249}\n",
            "Final Sentiment: Positive\n",
            "\n",
            "Tweet: Fast X was such a mess  Too much action no real story disappointed\n",
            "Sentiment Scores: {'neg': 0.494, 'neu': 0.506, 'pos': 0.0, 'compound': -0.7783}\n",
            "Final Sentiment: Negative\n",
            "\n",
            "Tweet: Barbie  was surprisingly fun and meaningful  Highly recommend\n",
            "Sentiment Scores: {'neg': 0.0, 'neu': 0.274, 'pos': 0.726, 'compound': 0.8622}\n",
            "Final Sentiment: Positive\n",
            "\n",
            "Tweet: Horror Nights  total waste of time boring jumpscares and weak plot\n",
            "Sentiment Scores: {'neg': 0.626, 'neu': 0.374, 'pos': 0.0, 'compound': -0.8934}\n",
            "Final Sentiment: Negative\n",
            "\n"
          ]
        }
      ]
    }
  ]
}
